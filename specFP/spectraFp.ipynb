{
 "cells": [
  {
   "cell_type": "code",
   "execution_count": 38,
   "metadata": {},
   "outputs": [
    {
     "data": {
      "text/html": [
       "<div>\n",
       "<style scoped>\n",
       "    .dataframe tbody tr th:only-of-type {\n",
       "        vertical-align: middle;\n",
       "    }\n",
       "\n",
       "    .dataframe tbody tr th {\n",
       "        vertical-align: top;\n",
       "    }\n",
       "\n",
       "    .dataframe thead th {\n",
       "        text-align: right;\n",
       "    }\n",
       "</style>\n",
       "<table border=\"1\" class=\"dataframe\">\n",
       "  <thead>\n",
       "    <tr style=\"text-align: right;\">\n",
       "      <th></th>\n",
       "      <th>ID</th>\n",
       "      <th>smiles</th>\n",
       "      <th>shiftH</th>\n",
       "      <th>shiftC</th>\n",
       "    </tr>\n",
       "  </thead>\n",
       "  <tbody>\n",
       "    <tr>\n",
       "      <th>0</th>\n",
       "      <td>1</td>\n",
       "      <td>CC(=O)CC(=O)NC1=C(C=C(C=C1)OC)OC</td>\n",
       "      <td>[[2.312, 's', 3.0], [3.572, 's', 2.0], [3.782,...</td>\n",
       "      <td>[30.85, 50.92, 55.55, 55.88, 98.85, 104.01, 12...</td>\n",
       "    </tr>\n",
       "    <tr>\n",
       "      <th>1</th>\n",
       "      <td>2</td>\n",
       "      <td>C1=CC=C(C=C1)C(=O)CC(=O)NC2=CC=CC=C2</td>\n",
       "      <td>[[4.076, 's', 2.0], [7.099, 't', 1.0], [7.294,...</td>\n",
       "      <td>[45.77, 120.26, 124.58, 128.59, 128.97, 134.25...</td>\n",
       "    </tr>\n",
       "    <tr>\n",
       "      <th>2</th>\n",
       "      <td>3</td>\n",
       "      <td>CCC(C(=O)NC1=CC=CC=C1O)OC2=C(C=C(C=C2)C(C)(C)C...</td>\n",
       "      <td>[[0.658, 't', 3.0], [0.71, 't', 3.0], [1.158, ...</td>\n",
       "      <td>[9.12, 9.68, 26.56, 28.24, 28.46, 33.76, 37.0,...</td>\n",
       "    </tr>\n",
       "    <tr>\n",
       "      <th>3</th>\n",
       "      <td>4</td>\n",
       "      <td>C1=CC(=CC=C1NC(=O)C2=C(C(=CC(=C2)Br)Br)O)Br</td>\n",
       "      <td>[[7.592, 'd', 2.0], [7.671, 'd', 2.0], [8.006,...</td>\n",
       "      <td>[109.87, 112.35, 116.92, 118.31, 123.55, 129.6...</td>\n",
       "    </tr>\n",
       "    <tr>\n",
       "      <th>4</th>\n",
       "      <td>5</td>\n",
       "      <td>CCC(C(=O)NC1=C(C=C(C(=C1)Cl)NC(=O)C)O)OC2=C(C=...</td>\n",
       "      <td>[[0.646, 't', 3.0], [0.692, 't', 3.0], [1.135,...</td>\n",
       "      <td>[8.7, 8.9, 23.3, 24.0, 28.8, 29.1, 34.2, 38.1,...</td>\n",
       "    </tr>\n",
       "  </tbody>\n",
       "</table>\n",
       "</div>"
      ],
      "text/plain": [
       "   ID                                             smiles  \\\n",
       "0   1                   CC(=O)CC(=O)NC1=C(C=C(C=C1)OC)OC   \n",
       "1   2               C1=CC=C(C=C1)C(=O)CC(=O)NC2=CC=CC=C2   \n",
       "2   3  CCC(C(=O)NC1=CC=CC=C1O)OC2=C(C=C(C=C2)C(C)(C)C...   \n",
       "3   4        C1=CC(=CC=C1NC(=O)C2=C(C(=CC(=C2)Br)Br)O)Br   \n",
       "4   5  CCC(C(=O)NC1=C(C=C(C(=C1)Cl)NC(=O)C)O)OC2=C(C=...   \n",
       "\n",
       "                                              shiftH  \\\n",
       "0  [[2.312, 's', 3.0], [3.572, 's', 2.0], [3.782,...   \n",
       "1  [[4.076, 's', 2.0], [7.099, 't', 1.0], [7.294,...   \n",
       "2  [[0.658, 't', 3.0], [0.71, 't', 3.0], [1.158, ...   \n",
       "3  [[7.592, 'd', 2.0], [7.671, 'd', 2.0], [8.006,...   \n",
       "4  [[0.646, 't', 3.0], [0.692, 't', 3.0], [1.135,...   \n",
       "\n",
       "                                              shiftC  \n",
       "0  [30.85, 50.92, 55.55, 55.88, 98.85, 104.01, 12...  \n",
       "1  [45.77, 120.26, 124.58, 128.59, 128.97, 134.25...  \n",
       "2  [9.12, 9.68, 26.56, 28.24, 28.46, 33.76, 37.0,...  \n",
       "3  [109.87, 112.35, 116.92, 118.31, 123.55, 129.6...  \n",
       "4  [8.7, 8.9, 23.3, 24.0, 28.8, 29.1, 34.2, 38.1,...  "
      ]
     },
     "execution_count": 38,
     "metadata": {},
     "output_type": "execute_result"
    }
   ],
   "source": [
    "import pandas as pd\n",
    "from SpectraFP import SpectraFP\n",
    "df = pd.read_excel('data/spectraFP/data_fp.xlsx')\n",
    "df.head()"
   ]
  },
  {
   "cell_type": "code",
   "execution_count": 39,
   "metadata": {},
   "outputs": [],
   "source": [
    "specfp = SpectraFP(range_spectra=[0, 240, 0.1])"
   ]
  },
  {
   "cell_type": "code",
   "execution_count": 40,
   "metadata": {},
   "outputs": [
    {
     "data": {
      "text/plain": [
       "[30.85,\n",
       " 50.92,\n",
       " 55.55,\n",
       " 55.88,\n",
       " 98.85,\n",
       " 104.01,\n",
       " 121.09,\n",
       " 121.24,\n",
       " 149.91,\n",
       " 156.87,\n",
       " 163.03,\n",
       " 204.22]"
      ]
     },
     "execution_count": 40,
     "metadata": {},
     "output_type": "execute_result"
    }
   ],
   "source": [
    "#Create a unique fingerprint\n",
    "ppm_list = eval(df.shiftC[0])\n",
    "ppm_list\n"
   ]
  },
  {
   "cell_type": "code",
   "execution_count": 41,
   "metadata": {},
   "outputs": [
    {
     "name": "stdout",
     "output_type": "stream",
     "text": [
      "ppm_list:\n",
      "[30.85, 50.92, 55.55, 55.88, 98.85, 104.01, 121.09, 121.24, 149.91, 156.87, 163.03, 204.22]\n",
      "\n",
      "FP\n",
      "[0 0 0 0 0 0 0 0 0 0 0 0 0 0 0 0 0 0 0 0 0 0 0 0 0 0 0 0 0 0 0 0 0 0 0 0 0\n",
      " 0 0 0 0 0 0 0 1 0 0 0 0 0 0 0 0 0 0 0 0 0 0 0 0 0 0 0 0 0 0 0 0 0 0 0 1 0\n",
      " 0 0 0 0 0 1 0 0 0 0 0 0 0 0 0 0 0 0 0 0 0 0 0 0 0 0 0 0 0 0 0 0 0 0 0 0 0\n",
      " 0 0 0 0 0 0 0 0 0 0 0 0 0 0 0 0 0 0 0 0 0 0 0 0 0 0 0 0 0 0 1 0 0 0 0 0 0\n",
      " 1 0 0 0 0 0 0 0 0 0 0 0 0 0 0 0 0 0 0 0 0 0 0 0 0 1 0 0 0 0 0 0 0 0 0 0 0\n",
      " 0 0 0 0 0 0 0 0 0 0 0 0 0 0 0 0 0 0 0 0 0 0 0 0 0 0 0 0 0 1 0 0 0 0 0 0 0\n",
      " 0 0 1 0 0 0 0 0 0 0 1 0 0 0 0 0 0 0 0 0 0 0 0 0 0 0 0 0 0 0 0 0 0 0 0 0 0\n",
      " 0 0 0 0 0 0 0 0 0 0 0 0 0 0 0 0 0 0 0 0 0 0 0 0 0 0 0 0 0 0 0 0 1 0 0 0 0\n",
      " 0 0 0 0 0 0 0 0 0 0 0 0 0 0 0 0 0 0 0 0 0 0 0 0 0 0 0 0 0 0 0 0 0 0 0 0 0\n",
      " 0 0 0 0 0 0 0 0 0 0 0 0 0 0 0]\n"
     ]
    }
   ],
   "source": [
    "fp = specfp.genFP(sample=ppm_list,\n",
    "             correction=3,\n",
    "             spurious_variables=False,\n",
    "             precision=1)\n",
    "\n",
    "print('ppm_list:\\n{}\\n\\nFP\\n{}'.format(ppm_list, fp))"
   ]
  },
  {
   "cell_type": "code",
   "execution_count": 42,
   "metadata": {},
   "outputs": [
    {
     "data": {
      "text/plain": [
       "(100,)"
      ]
     },
     "execution_count": 42,
     "metadata": {},
     "output_type": "execute_result"
    }
   ],
   "source": [
    "import numpy as np\n",
    "import ast\n",
    "# Run in a complete dataset\n",
    "# Colnames are the centroids (allowed signs when corretion >= 1)\n",
    "ppms = df['shiftC'].head(100).apply(eval)\n",
    "ppms.shape"
   ]
  },
  {
   "cell_type": "code",
   "execution_count": 43,
   "metadata": {},
   "outputs": [
    {
     "name": "stderr",
     "output_type": "stream",
     "text": [
      " 18%|█▊        | 143/790 [00:22<01:40,  6.41it/s]\n"
     ]
    },
    {
     "ename": "KeyboardInterrupt",
     "evalue": "",
     "output_type": "error",
     "traceback": [
      "\u001b[1;31m---------------------------------------------------------------------------\u001b[0m",
      "\u001b[1;31mKeyboardInterrupt\u001b[0m                         Traceback (most recent call last)",
      "Cell \u001b[1;32mIn[43], line 3\u001b[0m\n\u001b[0;32m      1\u001b[0m ppms2 \u001b[38;5;241m=\u001b[39m df[\u001b[38;5;124m'\u001b[39m\u001b[38;5;124mshiftC\u001b[39m\u001b[38;5;124m'\u001b[39m]\u001b[38;5;241m.\u001b[39mapply(\u001b[38;5;28meval\u001b[39m)\n\u001b[0;32m      2\u001b[0m ppms2_ID \u001b[38;5;241m=\u001b[39m df[\u001b[38;5;124m'\u001b[39m\u001b[38;5;124mID\u001b[39m\u001b[38;5;124m'\u001b[39m]\n\u001b[1;32m----> 3\u001b[0m fps \u001b[38;5;241m=\u001b[39m \u001b[43mspecfp\u001b[49m\u001b[38;5;241;43m.\u001b[39;49m\u001b[43mfit\u001b[49m\u001b[43m(\u001b[49m\u001b[43mdata_signs\u001b[49m\u001b[38;5;241;43m=\u001b[39;49m\u001b[43mppms2\u001b[49m\u001b[43m,\u001b[49m\u001b[43m \u001b[49m\n\u001b[0;32m      4\u001b[0m \u001b[43m                 \u001b[49m\u001b[43mcorrection\u001b[49m\u001b[38;5;241;43m=\u001b[39;49m\u001b[38;5;241;43m4\u001b[39;49m\u001b[43m,\u001b[49m\u001b[43m \u001b[49m\n\u001b[0;32m      5\u001b[0m \u001b[43m                 \u001b[49m\u001b[43mprecision\u001b[49m\u001b[38;5;241;43m=\u001b[39;49m\u001b[38;5;241;43m1\u001b[39;49m\u001b[43m,\u001b[49m\u001b[43m \u001b[49m\n\u001b[0;32m      6\u001b[0m \u001b[43m                 \u001b[49m\u001b[43mspurious_variables\u001b[49m\u001b[38;5;241;43m=\u001b[39;49m\u001b[38;5;28;43;01mFalse\u001b[39;49;00m\u001b[43m,\u001b[49m\u001b[43m \u001b[49m\n\u001b[0;32m      7\u001b[0m \u001b[43m                 \u001b[49m\u001b[43mreturnAsDataframe\u001b[49m\u001b[38;5;241;43m=\u001b[39;49m\u001b[38;5;28;43;01mTrue\u001b[39;49;00m\u001b[43m,\u001b[49m\u001b[43m \u001b[49m\n\u001b[0;32m      8\u001b[0m \u001b[43m                 \u001b[49m\u001b[43mcolabel\u001b[49m\u001b[38;5;241;43m=\u001b[39;49m\u001b[38;5;124;43m'\u001b[39;49m\u001b[38;5;124;43mppm-\u001b[39;49m\u001b[38;5;124;43m'\u001b[39;49m\u001b[43m,\u001b[49m\u001b[43m \u001b[49m\n\u001b[0;32m      9\u001b[0m \u001b[43m                 \u001b[49m\u001b[43mverbose\u001b[49m\u001b[38;5;241;43m=\u001b[39;49m\u001b[38;5;28;43;01mTrue\u001b[39;49;00m\u001b[43m)\u001b[49m\n\u001b[0;32m     10\u001b[0m alldata\u001b[38;5;241m=\u001b[39mpd\u001b[38;5;241m.\u001b[39mconcat([ppms2_ID, fps], axis\u001b[38;5;241m=\u001b[39m\u001b[38;5;241m1\u001b[39m)\n\u001b[0;32m     11\u001b[0m alldata\u001b[38;5;241m.\u001b[39mshape\n",
      "File \u001b[1;32md:\\anaconda3\\envs\\nmr_pred\\lib\\site-packages\\SpectraFP\\spectrafp.py:230\u001b[0m, in \u001b[0;36mSpectraFP.fit\u001b[1;34m(self, data_signs, correction, precision, spurious_variables, returnAsDataframe, colabel, verbose)\u001b[0m\n\u001b[0;32m    228\u001b[0m \u001b[38;5;28;01mif\u001b[39;00m verbose:\n\u001b[0;32m    229\u001b[0m     \u001b[38;5;28;01mfor\u001b[39;00m sign \u001b[38;5;129;01min\u001b[39;00m tqdm(data_signs):\n\u001b[1;32m--> 230\u001b[0m         fps\u001b[38;5;241m.\u001b[39mappend(\u001b[38;5;28;43mself\u001b[39;49m\u001b[38;5;241;43m.\u001b[39;49m\u001b[43mgenFP\u001b[49m\u001b[43m(\u001b[49m\u001b[43msample\u001b[49m\u001b[38;5;241;43m=\u001b[39;49m\u001b[43msign\u001b[49m\u001b[43m,\u001b[49m\n\u001b[0;32m    231\u001b[0m \u001b[43m                              \u001b[49m\u001b[43mcorrection\u001b[49m\u001b[38;5;241;43m=\u001b[39;49m\u001b[43mcorrection\u001b[49m\u001b[43m,\u001b[49m\n\u001b[0;32m    232\u001b[0m \u001b[43m                              \u001b[49m\u001b[43mspurious_variables\u001b[49m\u001b[38;5;241;43m=\u001b[39;49m\u001b[43mspurious_variables\u001b[49m\u001b[43m,\u001b[49m\u001b[43m \u001b[49m\n\u001b[0;32m    233\u001b[0m \u001b[43m                              \u001b[49m\u001b[43mprecision\u001b[49m\u001b[38;5;241;43m=\u001b[39;49m\u001b[43mprecision\u001b[49m\u001b[43m)\u001b[49m)\n\u001b[0;32m    234\u001b[0m \u001b[38;5;28;01melse\u001b[39;00m:\n\u001b[0;32m    235\u001b[0m     \u001b[38;5;28;01mfor\u001b[39;00m sign \u001b[38;5;129;01min\u001b[39;00m data_signs:\n",
      "File \u001b[1;32md:\\anaconda3\\envs\\nmr_pred\\lib\\site-packages\\SpectraFP\\spectrafp.py:156\u001b[0m, in \u001b[0;36mSpectraFP.genFP\u001b[1;34m(self, sample, correction, spurious_variables, precision)\u001b[0m\n\u001b[0;32m    154\u001b[0m axis_ \u001b[38;5;241m=\u001b[39m [\u001b[38;5;28mself\u001b[39m\u001b[38;5;241m.\u001b[39mstart, \u001b[38;5;28mself\u001b[39m\u001b[38;5;241m.\u001b[39mstop, \u001b[38;5;28mself\u001b[39m\u001b[38;5;241m.\u001b[39mstep]\n\u001b[0;32m    155\u001b[0m sample \u001b[38;5;241m=\u001b[39m np\u001b[38;5;241m.\u001b[39masarray(sample)\n\u001b[1;32m--> 156\u001b[0m original_pos \u001b[38;5;241m=\u001b[39m \u001b[43mSpectraFP\u001b[49m\u001b[38;5;241;43m.\u001b[39;49m\u001b[43m__findPos\u001b[49m\u001b[43m(\u001b[49m\u001b[38;5;28;43mself\u001b[39;49m\u001b[43m,\u001b[49m\u001b[43m \u001b[49m\u001b[43msample\u001b[49m\u001b[43m,\u001b[49m\u001b[43m \u001b[49m\u001b[43mdec\u001b[49m\u001b[38;5;241;43m=\u001b[39;49m\u001b[43mprecision\u001b[49m\u001b[43m)\u001b[49m \u001b[38;5;66;03m#get positions without degree of freedom\u001b[39;00m\n\u001b[0;32m    157\u001b[0m permitted_pos \u001b[38;5;241m=\u001b[39m SpectraFP\u001b[38;5;241m.\u001b[39m__permittedPos(\u001b[38;5;28mself\u001b[39m, degree_freedom\u001b[38;5;241m=\u001b[39mcorrection, axis_range\u001b[38;5;241m=\u001b[39maxis_) \u001b[38;5;66;03m#get positions with degree_Freedom\u001b[39;00m\n\u001b[0;32m    159\u001b[0m new_positions \u001b[38;5;241m=\u001b[39m SpectraFP\u001b[38;5;241m.\u001b[39m__findPos_filttered(\u001b[38;5;28mself\u001b[39m, original_pos, permitted_pos)\n",
      "File \u001b[1;32md:\\anaconda3\\envs\\nmr_pred\\lib\\site-packages\\SpectraFP\\spectrafp.py:41\u001b[0m, in \u001b[0;36mSpectraFP.__findPos\u001b[1;34m(self, num, dec)\u001b[0m\n\u001b[0;32m     39\u001b[0m \u001b[38;5;28;01mfor\u001b[39;00m value_entry \u001b[38;5;129;01min\u001b[39;00m num: \u001b[38;5;66;03m#pra cada valor que o usuario entrar vou contar no vetor grande\u001b[39;00m\n\u001b[0;32m     40\u001b[0m     \u001b[38;5;28;01mfor\u001b[39;00m i,vet \u001b[38;5;129;01min\u001b[39;00m \u001b[38;5;28menumerate\u001b[39m(\u001b[38;5;28mself\u001b[39m\u001b[38;5;241m.\u001b[39m_vet_fp):\n\u001b[1;32m---> 41\u001b[0m         \u001b[38;5;28;01mif\u001b[39;00m \u001b[38;5;28;43mround\u001b[39;49m\u001b[43m(\u001b[49m\u001b[43mvet\u001b[49m\u001b[43m,\u001b[49m\u001b[43m \u001b[49m\u001b[43mdec\u001b[49m\u001b[43m)\u001b[49m\u001b[43m \u001b[49m\u001b[38;5;241;43m==\u001b[39;49m\u001b[43m \u001b[49m\u001b[43mvalue_entry\u001b[49m:\n\u001b[0;32m     42\u001b[0m             findedlist\u001b[38;5;241m.\u001b[39mappend(i)\n\u001b[0;32m     43\u001b[0m \u001b[38;5;28;01mreturn\u001b[39;00m findedlist\n",
      "\u001b[1;31mKeyboardInterrupt\u001b[0m: "
     ]
    }
   ],
   "source": [
    "ppms2 = df['shiftC'].apply(eval)\n",
    "ppms2_ID = df['ID']\n",
    "fps = specfp.fit(data_signs=ppms2, \n",
    "                 correction=4, \n",
    "                 precision=1, \n",
    "                 spurious_variables=False, \n",
    "                 returnAsDataframe=True, \n",
    "                 colabel='ppm-', \n",
    "                 verbose=True)\n",
    "alldata=pd.concat([ppms2_ID, fps], axis=1)\n",
    "alldata.shape\n",
    "alldata.to_pickle(\"data/spectraFP/data4.pkl\",compression='zip')"
   ]
  },
  {
   "cell_type": "code",
   "execution_count": null,
   "metadata": {},
   "outputs": [
    {
     "data": {
      "text/plain": [
       "array([[0, 0, 0, ..., 0, 0, 0],\n",
       "       [0, 0, 0, ..., 0, 0, 0],\n",
       "       [0, 0, 0, ..., 0, 0, 0],\n",
       "       ...,\n",
       "       [0, 0, 0, ..., 0, 0, 0],\n",
       "       [0, 0, 0, ..., 0, 0, 0],\n",
       "       [0, 0, 0, ..., 0, 0, 0]], dtype=uint8)"
      ]
     },
     "execution_count": 7,
     "metadata": {},
     "output_type": "execute_result"
    }
   ],
   "source": [
    "#get in matrix form\n",
    "fps.values"
   ]
  },
  {
   "cell_type": "code",
   "execution_count": null,
   "metadata": {},
   "outputs": [
    {
     "name": "stderr",
     "output_type": "stream",
     "text": [
      "d:\\anaconda3\\envs\\nmr_pred\\lib\\site-packages\\SpectraFP\\spectrafp.py:527: RuntimeWarning: invalid value encountered in cast\n",
      "  onlySpecFP=db.iloc[:, 1:].values.astype('uint64'),\n"
     ]
    },
    {
     "data": {
      "text/plain": [
       "[(72, 0.9893313546726026),\n",
       " (14, 0.9887002022289874),\n",
       " (18, 0.9887002022289874),\n",
       " (80, 0.9887002022289874),\n",
       " (41, 0.9880686466217588),\n",
       " (45, 0.9880686466217588),\n",
       " (51, 0.9880686466217588),\n",
       " (59, 0.9880686466217588),\n",
       " (63, 0.9880686466217588),\n",
       " (77, 0.9880686466217588)]"
      ]
     },
     "execution_count": 9,
     "metadata": {},
     "output_type": "execute_result"
    }
   ],
   "source": [
    "from SpectraFP import SearchEngine\n",
    "se = SearchEngine() #Instancing class\n",
    "peak_list = [195.34, 164.56, 132.87, 131.03, 129.41, 125.71, 115.94, 67.08, 53.48, 51.88, 31.69, 22.87, 17.35, 14.04, 13.65]\n",
    "\n",
    "get_structures = se.search(signs_list=peak_list,\n",
    "                           threshold=0.8, #相似度阈值，大于此值才会输出\n",
    "                           difBetween13C=20,# 位移信号数量差异，小于等于此值\n",
    "                           correction=1,\n",
    "                           similarity='euclidian')\n",
    "\n",
    "list(get_structures.items ()) [ :10]"
   ]
  },
  {
   "cell_type": "code",
   "execution_count": null,
   "metadata": {},
   "outputs": [
    {
     "data": {
      "text/html": [
       "<div>\n",
       "<style scoped>\n",
       "    .dataframe tbody tr th:only-of-type {\n",
       "        vertical-align: middle;\n",
       "    }\n",
       "\n",
       "    .dataframe tbody tr th {\n",
       "        vertical-align: top;\n",
       "    }\n",
       "\n",
       "    .dataframe thead th {\n",
       "        text-align: right;\n",
       "    }\n",
       "</style>\n",
       "<table border=\"1\" class=\"dataframe\">\n",
       "  <thead>\n",
       "    <tr style=\"text-align: right;\">\n",
       "      <th></th>\n",
       "      <th>ID</th>\n",
       "      <th>Similarity</th>\n",
       "    </tr>\n",
       "  </thead>\n",
       "  <tbody>\n",
       "    <tr>\n",
       "      <th>0</th>\n",
       "      <td>72</td>\n",
       "      <td>0.989331</td>\n",
       "    </tr>\n",
       "    <tr>\n",
       "      <th>1</th>\n",
       "      <td>14</td>\n",
       "      <td>0.988700</td>\n",
       "    </tr>\n",
       "    <tr>\n",
       "      <th>2</th>\n",
       "      <td>18</td>\n",
       "      <td>0.988700</td>\n",
       "    </tr>\n",
       "    <tr>\n",
       "      <th>3</th>\n",
       "      <td>80</td>\n",
       "      <td>0.988700</td>\n",
       "    </tr>\n",
       "    <tr>\n",
       "      <th>4</th>\n",
       "      <td>41</td>\n",
       "      <td>0.988069</td>\n",
       "    </tr>\n",
       "    <tr>\n",
       "      <th>...</th>\n",
       "      <td>...</td>\n",
       "      <td>...</td>\n",
       "    </tr>\n",
       "    <tr>\n",
       "      <th>95</th>\n",
       "      <td>5</td>\n",
       "      <td>0.975352</td>\n",
       "    </tr>\n",
       "    <tr>\n",
       "      <th>96</th>\n",
       "      <td>54</td>\n",
       "      <td>0.974711</td>\n",
       "    </tr>\n",
       "    <tr>\n",
       "      <th>97</th>\n",
       "      <td>8</td>\n",
       "      <td>0.973430</td>\n",
       "    </tr>\n",
       "    <tr>\n",
       "      <th>98</th>\n",
       "      <td>76</td>\n",
       "      <td>0.972788</td>\n",
       "    </tr>\n",
       "    <tr>\n",
       "      <th>99</th>\n",
       "      <td>53</td>\n",
       "      <td>0.971504</td>\n",
       "    </tr>\n",
       "  </tbody>\n",
       "</table>\n",
       "<p>100 rows × 2 columns</p>\n",
       "</div>"
      ],
      "text/plain": [
       "    ID  Similarity\n",
       "0   72    0.989331\n",
       "1   14    0.988700\n",
       "2   18    0.988700\n",
       "3   80    0.988700\n",
       "4   41    0.988069\n",
       "..  ..         ...\n",
       "95   5    0.975352\n",
       "96  54    0.974711\n",
       "97   8    0.973430\n",
       "98  76    0.972788\n",
       "99  53    0.971504\n",
       "\n",
       "[100 rows x 2 columns]"
      ]
     },
     "execution_count": 10,
     "metadata": {},
     "output_type": "execute_result"
    }
   ],
   "source": [
    "import pandas as pd\n",
    "#display as dataframe\n",
    "pd.DataFrame({'ID':get_structures.keys(), 'Similarity':get_structures.values()})"
   ]
  },
  {
   "cell_type": "code",
   "execution_count": null,
   "metadata": {},
   "outputs": [
    {
     "name": "stdout",
     "output_type": "stream",
     "text": [
      "[9.15, 24.18, 32.46, 63.34, 102.85, 108.21, 108.9, 126.5, 129.54, 148.61, 152.96, 196.18]\n"
     ]
    },
    {
     "name": "stderr",
     "output_type": "stream",
     "text": [
      "d:\\anaconda3\\envs\\nmr_pred\\lib\\site-packages\\SpectraFP\\spectrafp.py:468: RuntimeWarning: overflow encountered in scalar subtract\n",
      "  dInput_match = int(abs(sim_signs[1]-nsigns_input))\n"
     ]
    },
    {
     "name": "stdout",
     "output_type": "stream",
     "text": [
      "[23.65, 29.77, 32.46, 51.5, 52.52, 59.12, 128.77, 129.02, 129.54, 129.8, 130.67, 132.88, 139.63, 139.99, 169.13]\n"
     ]
    },
    {
     "name": "stderr",
     "output_type": "stream",
     "text": [
      "d:\\anaconda3\\envs\\nmr_pred\\lib\\site-packages\\SpectraFP\\spectrafp.py:468: RuntimeWarning: overflow encountered in scalar subtract\n",
      "  dInput_match = int(abs(sim_signs[1]-nsigns_input))\n"
     ]
    },
    {
     "name": "stdout",
     "output_type": "stream",
     "text": [
      "[18.48, 30.63, 47.84, 109.51, 111.99, 118.74, 118.92, 121.5, 125.56, 127.63, 136.76]\n"
     ]
    },
    {
     "name": "stderr",
     "output_type": "stream",
     "text": [
      "d:\\anaconda3\\envs\\nmr_pred\\lib\\site-packages\\SpectraFP\\spectrafp.py:468: RuntimeWarning: overflow encountered in scalar subtract\n",
      "  dInput_match = int(abs(sim_signs[1]-nsigns_input))\n"
     ]
    },
    {
     "name": "stdout",
     "output_type": "stream",
     "text": [
      "[15.64, 31.04, 58.61, 131.24, 131.64, 132.74, 133.54, 196.09]\n",
      "[17.83, 40.8, 48.48, 115.83, 132.5, 133.54, 163.5]\n"
     ]
    },
    {
     "name": "stderr",
     "output_type": "stream",
     "text": [
      "d:\\anaconda3\\envs\\nmr_pred\\lib\\site-packages\\SpectraFP\\spectrafp.py:468: RuntimeWarning: overflow encountered in scalar subtract\n",
      "  dInput_match = int(abs(sim_signs[1]-nsigns_input))\n",
      "d:\\anaconda3\\envs\\nmr_pred\\lib\\site-packages\\SpectraFP\\spectrafp.py:468: RuntimeWarning: overflow encountered in scalar subtract\n",
      "  dInput_match = int(abs(sim_signs[1]-nsigns_input))\n"
     ]
    },
    {
     "name": "stdout",
     "output_type": "stream",
     "text": [
      "[14.16, 18.38, 23.31, 32.6, 52.5, 53.48, 70.5, 130.23, 137.08, 139.12, 142.24, 189.42]\n"
     ]
    },
    {
     "name": "stderr",
     "output_type": "stream",
     "text": [
      "d:\\anaconda3\\envs\\nmr_pred\\lib\\site-packages\\SpectraFP\\spectrafp.py:468: RuntimeWarning: overflow encountered in scalar subtract\n",
      "  dInput_match = int(abs(sim_signs[1]-nsigns_input))\n"
     ]
    },
    {
     "name": "stdout",
     "output_type": "stream",
     "text": [
      "[49.44, 105.66, 111.98, 115.92, 116.14, 121.32, 122.5, 122.57, 123.39, 126.34, 126.95, 127.09, 129.63, 130.02, 130.23, 133.78, 136.67, 137.19, 142.27, 147.67, 150.96, 162.86, 163.36]\n"
     ]
    },
    {
     "name": "stderr",
     "output_type": "stream",
     "text": [
      "d:\\anaconda3\\envs\\nmr_pred\\lib\\site-packages\\SpectraFP\\spectrafp.py:468: RuntimeWarning: overflow encountered in scalar subtract\n",
      "  dInput_match = int(abs(sim_signs[1]-nsigns_input))\n",
      "d:\\anaconda3\\envs\\nmr_pred\\lib\\site-packages\\SpectraFP\\spectrafp.py:468: RuntimeWarning: overflow encountered in scalar subtract\n",
      "  dInput_match = int(abs(sim_signs[1]-nsigns_input))\n"
     ]
    },
    {
     "name": "stdout",
     "output_type": "stream",
     "text": [
      "[18.15, 41.85, 48.21, 130.22, 131.89, 134.3, 136.49]\n",
      "[14.32, 22.23, 29.47, 29.84, 30.6, 36.68, 41.91, 46.24, 52.23, 110.56, 111.14, 120.76, 121.82, 122.15, 126.22, 131.03, 136.49, 164.45]\n"
     ]
    },
    {
     "name": "stderr",
     "output_type": "stream",
     "text": [
      "d:\\anaconda3\\envs\\nmr_pred\\lib\\site-packages\\SpectraFP\\spectrafp.py:468: RuntimeWarning: overflow encountered in scalar subtract\n",
      "  dInput_match = int(abs(sim_signs[1]-nsigns_input))\n"
     ]
    },
    {
     "name": "stdout",
     "output_type": "stream",
     "text": [
      "[23.62, 52.0, 55.82, 58.22, 100.57, 111.56, 112.55, 115.27, 117.84, 123.85, 129.06, 133.08, 135.77, 153.44]\n"
     ]
    },
    {
     "name": "stderr",
     "output_type": "stream",
     "text": [
      "d:\\anaconda3\\envs\\nmr_pred\\lib\\site-packages\\SpectraFP\\spectrafp.py:468: RuntimeWarning: overflow encountered in scalar subtract\n",
      "  dInput_match = int(abs(sim_signs[1]-nsigns_input))\n"
     ]
    },
    {
     "name": "stdout",
     "output_type": "stream",
     "text": [
      "[14.37, 22.31, 28.29, 28.61, 68.87, 104.3, 122.53, 125.33, 125.59, 125.64, 126.0, 126.64, 126.93, 126.93, 127.67, 127.81, 128.27, 129.02, 130.85, 131.48, 132.49, 133.75, 135.7, 138.65, 158.68, 198.47]\n"
     ]
    },
    {
     "name": "stderr",
     "output_type": "stream",
     "text": [
      "d:\\anaconda3\\envs\\nmr_pred\\lib\\site-packages\\SpectraFP\\spectrafp.py:468: RuntimeWarning: overflow encountered in scalar subtract\n",
      "  dInput_match = int(abs(sim_signs[1]-nsigns_input))\n"
     ]
    },
    {
     "name": "stdout",
     "output_type": "stream",
     "text": [
      "[22.09, 43.93, 55.88, 58.66, 100.71, 111.17, 112.51, 113.88, 123.88, 128.94, 131.89, 153.48]\n"
     ]
    },
    {
     "name": "stderr",
     "output_type": "stream",
     "text": [
      "d:\\anaconda3\\envs\\nmr_pred\\lib\\site-packages\\SpectraFP\\spectrafp.py:468: RuntimeWarning: overflow encountered in scalar subtract\n",
      "  dInput_match = int(abs(sim_signs[1]-nsigns_input))\n"
     ]
    },
    {
     "name": "stdout",
     "output_type": "stream",
     "text": [
      "[9.39, 23.27, 30.51, 35.42, 62.17, 101.34, 108.75, 109.94, 123.61, 130.98, 148.46, 149.87]\n"
     ]
    },
    {
     "name": "stderr",
     "output_type": "stream",
     "text": [
      "d:\\anaconda3\\envs\\nmr_pred\\lib\\site-packages\\SpectraFP\\spectrafp.py:468: RuntimeWarning: overflow encountered in scalar subtract\n",
      "  dInput_match = int(abs(sim_signs[1]-nsigns_input))\n"
     ]
    },
    {
     "name": "stdout",
     "output_type": "stream",
     "text": [
      "[22.65, 29.46, 29.78, 29.97, 36.68, 41.9, 46.15, 52.48, 84.12, 110.6, 111.16, 120.77, 121.81, 122.16, 125.44, 131.12, 136.48, 164.45]\n"
     ]
    },
    {
     "name": "stderr",
     "output_type": "stream",
     "text": [
      "d:\\anaconda3\\envs\\nmr_pred\\lib\\site-packages\\SpectraFP\\spectrafp.py:468: RuntimeWarning: overflow encountered in scalar subtract\n",
      "  dInput_match = int(abs(sim_signs[1]-nsigns_input))\n"
     ]
    },
    {
     "name": "stdout",
     "output_type": "stream",
     "text": [
      "[14.29, 18.4, 19.85, 22.11, 28.76, 29.56, 30.55, 49.15, 57.22, 110.91, 122.15, 122.46, 122.94, 127.09, 136.87, 141.09, 161.82, 173.11]\n"
     ]
    },
    {
     "name": "stderr",
     "output_type": "stream",
     "text": [
      "d:\\anaconda3\\envs\\nmr_pred\\lib\\site-packages\\SpectraFP\\spectrafp.py:468: RuntimeWarning: overflow encountered in scalar subtract\n",
      "  dInput_match = int(abs(sim_signs[1]-nsigns_input))\n"
     ]
    },
    {
     "name": "stdout",
     "output_type": "stream",
     "text": [
      "[22.47, 29.49, 29.69, 29.88, 35.25, 41.6, 48.88, 51.58, 84.1, 108.77, 122.33, 122.4, 122.69, 126.98, 137.98, 141.09, 161.57]\n"
     ]
    },
    {
     "name": "stderr",
     "output_type": "stream",
     "text": [
      "d:\\anaconda3\\envs\\nmr_pred\\lib\\site-packages\\SpectraFP\\spectrafp.py:468: RuntimeWarning: overflow encountered in scalar subtract\n",
      "  dInput_match = int(abs(sim_signs[1]-nsigns_input))\n"
     ]
    },
    {
     "name": "stdout",
     "output_type": "stream",
     "text": [
      "[22.5, 29.43, 29.8, 38.18, 49.0, 54.04, 84.1, 109.57, 122.46, 122.46, 122.9, 126.78, 127.06, 128.5, 129.76, 135.93, 136.92, 141.03, 161.74, 173.11]\n"
     ]
    },
    {
     "name": "stderr",
     "output_type": "stream",
     "text": [
      "d:\\anaconda3\\envs\\nmr_pred\\lib\\site-packages\\SpectraFP\\spectrafp.py:468: RuntimeWarning: overflow encountered in scalar subtract\n",
      "  dInput_match = int(abs(sim_signs[1]-nsigns_input))\n"
     ]
    },
    {
     "name": "stdout",
     "output_type": "stream",
     "text": [
      "[15.43, 17.29, 22.45, 34.64, 55.99, 56.04, 58.6, 100.9, 110.88, 112.61, 113.0, 125.38, 128.5, 131.82, 153.64]\n"
     ]
    },
    {
     "name": "stderr",
     "output_type": "stream",
     "text": [
      "d:\\anaconda3\\envs\\nmr_pred\\lib\\site-packages\\SpectraFP\\spectrafp.py:468: RuntimeWarning: overflow encountered in scalar subtract\n",
      "  dInput_match = int(abs(sim_signs[1]-nsigns_input))\n"
     ]
    },
    {
     "name": "stdout",
     "output_type": "stream",
     "text": [
      "[10.99, 23.53, 46.9, 52.9, 59.89, 103.9, 105.3, 110.8, 117.22, 123.0, 124.34, 140.79, 152.11]\n"
     ]
    },
    {
     "name": "stderr",
     "output_type": "stream",
     "text": [
      "d:\\anaconda3\\envs\\nmr_pred\\lib\\site-packages\\SpectraFP\\spectrafp.py:468: RuntimeWarning: overflow encountered in scalar subtract\n",
      "  dInput_match = int(abs(sim_signs[1]-nsigns_input))\n"
     ]
    },
    {
     "name": "stdout",
     "output_type": "stream",
     "text": [
      "[20.42, 22.33, 46.53, 64.2, 107.9, 111.04, 119.33, 123.36, 123.56, 125.9, 137.11, 139.6, 169.01]\n",
      "输出结束\n"
     ]
    },
    {
     "name": "stderr",
     "output_type": "stream",
     "text": [
      "d:\\anaconda3\\envs\\nmr_pred\\lib\\site-packages\\SpectraFP\\spectrafp.py:468: RuntimeWarning: overflow encountered in scalar subtract\n",
      "  dInput_match = int(abs(sim_signs[1]-nsigns_input))\n"
     ]
    }
   ],
   "source": [
    "testdata = pd.read_excel('data/validset1/dataset20.xlsx','20')\n",
    "shiftC = testdata['shiftC']\n",
    "se = SearchEngine() #Instancing class\n",
    "lst=[]\n",
    "for x in shiftC:\n",
    "    peak_list = eval(x)\n",
    "    print(peak_list)\n",
    "    get_structures = se.search(signs_list=peak_list,\n",
    "                            threshold=0.8, \n",
    "                            difBetween13C=20,\n",
    "                            correction=0,\n",
    "                            similarity='euclidian')\n",
    "    lst.append(list(get_structures.items ()) [ :1])\n",
    "# data1为list类型，参数index为索引，column为列名\n",
    "data2 = pd.DataFrame(data = lst,index = None)\n",
    "# PATH为导出文件的路径和文件名\n",
    "data2.to_csv('data/validset1/result.csv')\n",
    "print('输出结束')"
   ]
  },
  {
   "cell_type": "code",
   "execution_count": null,
   "metadata": {},
   "outputs": [],
   "source": []
  },
  {
   "cell_type": "code",
   "execution_count": 44,
   "metadata": {},
   "outputs": [
    {
     "data": {
      "text/html": [
       "<div>\n",
       "<style scoped>\n",
       "    .dataframe tbody tr th:only-of-type {\n",
       "        vertical-align: middle;\n",
       "    }\n",
       "\n",
       "    .dataframe tbody tr th {\n",
       "        vertical-align: top;\n",
       "    }\n",
       "\n",
       "    .dataframe thead th {\n",
       "        text-align: right;\n",
       "    }\n",
       "</style>\n",
       "<table border=\"1\" class=\"dataframe\">\n",
       "  <thead>\n",
       "    <tr style=\"text-align: right;\">\n",
       "      <th></th>\n",
       "      <th>ID</th>\n",
       "      <th>smiles</th>\n",
       "      <th>shiftH</th>\n",
       "      <th>shiftC</th>\n",
       "    </tr>\n",
       "  </thead>\n",
       "  <tbody>\n",
       "    <tr>\n",
       "      <th>0</th>\n",
       "      <td>1</td>\n",
       "      <td>CC(=O)CC(=O)NC1=C(C=C(C=C1)OC)OC</td>\n",
       "      <td>[[2.312, 's', 3.0], [3.572, 's', 2.0], [3.782,...</td>\n",
       "      <td>[30.85, 50.92, 55.55, 55.88, 98.85, 104.01, 12...</td>\n",
       "    </tr>\n",
       "    <tr>\n",
       "      <th>1</th>\n",
       "      <td>2</td>\n",
       "      <td>C1=CC=C(C=C1)C(=O)CC(=O)NC2=CC=CC=C2</td>\n",
       "      <td>[[4.076, 's', 2.0], [7.099, 't', 1.0], [7.294,...</td>\n",
       "      <td>[45.77, 120.26, 124.58, 128.59, 128.97, 134.25...</td>\n",
       "    </tr>\n",
       "    <tr>\n",
       "      <th>2</th>\n",
       "      <td>3</td>\n",
       "      <td>CCC(C(=O)NC1=CC=CC=C1O)OC2=C(C=C(C=C2)C(C)(C)C...</td>\n",
       "      <td>[[0.658, 't', 3.0], [0.71, 't', 3.0], [1.158, ...</td>\n",
       "      <td>[9.12, 9.68, 26.56, 28.24, 28.46, 33.76, 37.0,...</td>\n",
       "    </tr>\n",
       "    <tr>\n",
       "      <th>3</th>\n",
       "      <td>4</td>\n",
       "      <td>C1=CC(=CC=C1NC(=O)C2=C(C(=CC(=C2)Br)Br)O)Br</td>\n",
       "      <td>[[7.592, 'd', 2.0], [7.671, 'd', 2.0], [8.006,...</td>\n",
       "      <td>[109.87, 112.35, 116.92, 118.31, 123.55, 129.6...</td>\n",
       "    </tr>\n",
       "    <tr>\n",
       "      <th>4</th>\n",
       "      <td>5</td>\n",
       "      <td>CCC(C(=O)NC1=C(C=C(C(=C1)Cl)NC(=O)C)O)OC2=C(C=...</td>\n",
       "      <td>[[0.646, 't', 3.0], [0.692, 't', 3.0], [1.135,...</td>\n",
       "      <td>[8.7, 8.9, 23.3, 24.0, 28.8, 29.1, 34.2, 38.1,...</td>\n",
       "    </tr>\n",
       "  </tbody>\n",
       "</table>\n",
       "</div>"
      ],
      "text/plain": [
       "   ID                                             smiles  \\\n",
       "0   1                   CC(=O)CC(=O)NC1=C(C=C(C=C1)OC)OC   \n",
       "1   2               C1=CC=C(C=C1)C(=O)CC(=O)NC2=CC=CC=C2   \n",
       "2   3  CCC(C(=O)NC1=CC=CC=C1O)OC2=C(C=C(C=C2)C(C)(C)C...   \n",
       "3   4        C1=CC(=CC=C1NC(=O)C2=C(C(=CC(=C2)Br)Br)O)Br   \n",
       "4   5  CCC(C(=O)NC1=C(C=C(C(=C1)Cl)NC(=O)C)O)OC2=C(C=...   \n",
       "\n",
       "                                              shiftH  \\\n",
       "0  [[2.312, 's', 3.0], [3.572, 's', 2.0], [3.782,...   \n",
       "1  [[4.076, 's', 2.0], [7.099, 't', 1.0], [7.294,...   \n",
       "2  [[0.658, 't', 3.0], [0.71, 't', 3.0], [1.158, ...   \n",
       "3  [[7.592, 'd', 2.0], [7.671, 'd', 2.0], [8.006,...   \n",
       "4  [[0.646, 't', 3.0], [0.692, 't', 3.0], [1.135,...   \n",
       "\n",
       "                                              shiftC  \n",
       "0  [30.85, 50.92, 55.55, 55.88, 98.85, 104.01, 12...  \n",
       "1  [45.77, 120.26, 124.58, 128.59, 128.97, 134.25...  \n",
       "2  [9.12, 9.68, 26.56, 28.24, 28.46, 33.76, 37.0,...  \n",
       "3  [109.87, 112.35, 116.92, 118.31, 123.55, 129.6...  \n",
       "4  [8.7, 8.9, 23.3, 24.0, 28.8, 29.1, 34.2, 38.1,...  "
      ]
     },
     "execution_count": 44,
     "metadata": {},
     "output_type": "execute_result"
    }
   ],
   "source": [
    "import pandas as pd\n",
    "from SpectraFP import SpectraFP\n",
    "df = pd.read_excel('data/spectraFP/data_fp.xlsx')\n",
    "df.head()"
   ]
  },
  {
   "cell_type": "code",
   "execution_count": null,
   "metadata": {},
   "outputs": [],
   "source": []
  },
  {
   "cell_type": "code",
   "execution_count": null,
   "metadata": {},
   "outputs": [],
   "source": [
    "testdata = pd.read_excel('data/validset1/dataset20.xlsx','20')\n",
    "shiftC = testdata['shiftC']\n",
    "se = SearchEngine() #Instancing class\n",
    "lst=[]\n",
    "for x in shiftC:\n",
    "    peak_list = eval(x)\n",
    "    print(peak_list)\n",
    "    get_structures = se.search(signs_list=peak_list,\n",
    "                            threshold=0.8, \n",
    "                            difBetween13C=20,\n",
    "                            correction=0,\n",
    "                            similarity='euclidian')\n",
    "    lst.append(list(get_structures.items ()) [ :1])\n",
    "# data1为list类型，参数index为索引，column为列名\n",
    "data2 = pd.DataFrame(data = lst,index = None)\n",
    "\n",
    "data2.to_csv('data/validset1/result.csv')\n",
    "print('end')"
   ]
  }
 ],
 "metadata": {
  "kernelspec": {
   "display_name": "nmr_pred",
   "language": "python",
   "name": "python3"
  },
  "language_info": {
   "codemirror_mode": {
    "name": "ipython",
    "version": 3
   },
   "file_extension": ".py",
   "mimetype": "text/x-python",
   "name": "python",
   "nbconvert_exporter": "python",
   "pygments_lexer": "ipython3",
   "version": "3.8.17"
  }
 },
 "nbformat": 4,
 "nbformat_minor": 2
}
